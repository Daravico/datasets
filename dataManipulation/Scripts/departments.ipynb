{
 "cells": [
  {
   "cell_type": "code",
   "execution_count": null,
   "metadata": {},
   "outputs": [],
   "source": [
    "import pandas as pd\n",
    "from faker import Faker\n",
    "import random\n",
    "\n",
    "# Crear una instancia de Faker\n",
    "fake = Faker()\n",
    "\n",
    "# Definir el número de empleados\n",
    "num_employees = 2000\n",
    "\n",
    "# Generar datos de empleados con inconsistencias\n",
    "def randomize_case(value):\n",
    "    return ''.join([char.upper() if random.random() > 0.5 else char.lower() for char in value])\n",
    "\n",
    "employee_data = {\n",
    "    'ID': [i for i in range(1, num_employees + 1)],\n",
    "    'Nombre': [fake.first_name() for _ in range(num_employees)],\n",
    "    'Apellido': [fake.last_name() for _ in range(num_employees)],\n",
    "    'Fecha de Nacimiento': [fake.date_of_birth(minimum_age=18, maximum_age=65) for _ in range(num_employees)],\n",
    "    'Género': [random.choice(['Masculino', 'Femenino']) for _ in range(num_employees)],\n",
    "    'Dirección': [fake.address() for _ in range(num_employees)],\n",
    "    'Teléfono': [fake.phone_number() for _ in range(num_employees)],\n",
    "    'Correo Electrónico': [fake.email() for _ in range(num_employees)],\n",
    "    'Puesto': [fake.job() for _ in range(num_employees)],\n",
    "    'Departamento': [randomize_case(random.choice(['Producción', 'Calidad', 'Mantenimiento', 'Logística', 'Administración'])) for _ in range(num_employees)],\n",
    "    'Fecha de Contratación': [randomize_case(fake.date_between(start_date='-10y', end_date='today').strftime('%Y-%m-%d')) for _ in range(num_employees)],\n",
    "    'Tipo de Contrato': [randomize_case(random.choice(['Permanente', 'Temporal', 'A tiempo parcial'])) for _ in range(num_employees)],\n",
    "    'Turno de Trabajo': [randomize_case(random.choice(['Diurno', 'Nocturno', 'Rotativo'])) for _ in range(num_employees)],\n",
    "    'Supervisor': [fake.name() for _ in range(num_employees)],\n",
    "    'Estado de Empleo': [randomize_case(random.choice(['Activo', 'En licencia', 'Retirado'])) for _ in range(num_employees)]\n",
    "}\n",
    "\n",
    "# Crear el DataFrame\n",
    "df_employees = pd.DataFrame(employee_data)\n",
    "\n",
    "# Guardar el DataFrame en un archivo CSV\n",
    "csv_filename = 'D_Ford_Employees.csv'\n",
    "df_employees.to_csv(csv_filename, index=False)\n",
    "\n",
    "# Mostrar un preview de 10 registros\n",
    "(df_employees.head(10))"
   ]
  }
 ],
 "metadata": {
  "kernelspec": {
   "display_name": "TEST VENV",
   "language": "python",
   "name": "test-venv"
  },
  "language_info": {
   "codemirror_mode": {
    "name": "ipython",
    "version": 3
   },
   "file_extension": ".py",
   "mimetype": "text/x-python",
   "name": "python",
   "nbconvert_exporter": "python",
   "pygments_lexer": "ipython3",
   "version": "3.12.0"
  }
 },
 "nbformat": 4,
 "nbformat_minor": 2
}
