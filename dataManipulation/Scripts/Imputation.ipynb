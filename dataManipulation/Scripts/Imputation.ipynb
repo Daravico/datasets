{
 "cells": [
  {
   "cell_type": "markdown",
   "metadata": {},
   "source": [
    "# Data Imputation Scripts"
   ]
  },
  {
   "cell_type": "markdown",
   "metadata": {},
   "source": [
    "## Plotter for missing data "
   ]
  },
  {
   "cell_type": "code",
   "execution_count": null,
   "metadata": {},
   "outputs": [],
   "source": [
    "import matplotlib.pyplot as plt\n",
    "\n",
    "title = \"Imputation of Missing Values\"\n",
    "\n",
    "def plot_imputation(original_data, imputed_data, x_data, missing_indices, title=title):\n",
    "\n",
    "    # Initial figure size configuration.\n",
    "    plt.figure(figsize=(12, 6))\n",
    "\n",
    "    # Black points for original data, red for missing data.\n",
    "    plt.scatter(x_data, original_data, color='black', label='Original Data')\n",
    "    plt.scatter(x_data[missing_indices], imputed_data[missing_indices], color='red', label='Imputed Data')\n",
    "\n",
    "    \n",
    "    # Connect imputed points with neighboring points and adding vertical lines.\n",
    "    for idx in missing_indices:\n",
    "        if idx > 0:\n",
    "            plt.plot([x_data[idx - 1], x_data[idx]], [imputed_data[idx - 1], imputed_data[idx]], 'r--')\n",
    "        if idx < len(x_data) - 1:\n",
    "            plt.plot([x_data[idx], x_data[idx + 1]], [imputed_data[idx], imputed_data[idx + 1]], 'r--')\n",
    "\n",
    "        plt.axvline(x=x_data[idx], color='grey', linestyle=\"-.\", alpha=0.5)\n",
    "\n",
    "    # Optional: Adding blue lines between datapoints.\n",
    "    # plt.plot(x_data, imputed_data, 'b-', label='Data with Imputation')\n",
    "    plt.xlabel('X values')\n",
    "    plt.ylabel('Y values')\n",
    "    plt.legend()\n",
    "    plt.title(title)\n",
    "    plt.show()"
   ]
  }
 ],
 "metadata": {
  "kernelspec": {
   "display_name": "FORD ENV",
   "language": "python",
   "name": "ford-env"
  },
  "language_info": {
   "name": "python",
   "version": "3.10.2"
  }
 },
 "nbformat": 4,
 "nbformat_minor": 2
}
