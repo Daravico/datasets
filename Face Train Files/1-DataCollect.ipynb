{
 "cells": [
  {
   "cell_type": "code",
   "execution_count": 2,
   "metadata": {},
   "outputs": [],
   "source": [
    "def actualizar_id(filename):\n",
    "\n",
    "    try:\n",
    "        with open(filename, 'r') as file:\n",
    "            lines = file.readlines()\n",
    "            if lines:\n",
    "                last_id = int(lines[-1].strip())\n",
    "            else:\n",
    "                last_id = 0\n",
    "\n",
    "        new_id = last_id + 1\n",
    "\n",
    "        with open(filename, 'a') as file:\n",
    "            file.write(str(new_id) + '\\n')\n",
    "\n",
    "        return new_id\n",
    "    \n",
    "    except FileNotFoundError:\n",
    "        with open(filename, 'w') as file:\n",
    "            file.write('1\\n')\n",
    "            return 1"
   ]
  },
  {
   "cell_type": "code",
   "execution_count": 8,
   "metadata": {},
   "outputs": [
    {
     "name": "stdout",
     "output_type": "stream",
     "text": [
      "2\n"
     ]
    }
   ],
   "source": [
    "import cv2\n",
    "import numpy as np\n",
    "\n",
    "cap = cv2.VideoCapture(0)\n",
    "\n",
    "prototxt = \"models/deploy.prototxt\"\n",
    "model = \"models/res10_300x300_ssd_iter_140000.caffemodel\"\n",
    "\n",
    "net = cv2.dnn.readNetFromCaffe(prototxt, model)\n",
    "\n",
    "file_id = 'id_list.txt'\n",
    "current_id = actualizar_id(file_id)\n",
    "print(current_id)\n",
    "\n",
    "count = 0\n",
    "limit = 500\n",
    "\n",
    "while True:\n",
    "\n",
    "    ret, frame = cap.read()\n",
    "    frame = cv2.flip(frame, 1)\n",
    "\n",
    "    h, w, _ = frame.shape\n",
    "\n",
    "    frame_resize = cv2.resize(frame, (300, 300))\n",
    "\n",
    "    blob = cv2.dnn.blobFromImage(frame_resize, 1.0, (300,300), (104, 117, 123))\n",
    "\n",
    "    net.setInput(blob)\n",
    "    detections = net.forward()\n",
    "\n",
    "    box = np.array([0,0,0,0], dtype=np.float64)\n",
    "    area = 0\n",
    "\n",
    "    for detection in detections[0][0]:\n",
    "        if detection[2] > 0.6:\n",
    "            box_ = detection[3:7] * [w, h, w, h]\n",
    "\n",
    "            if ((box_[2] - box_[0]) * (box_[3] - box_[1])) > area:\n",
    "                area = (box_[2] - box_[0]) * (box_[3] - box_[1])\n",
    "                box = box_\n",
    "\n",
    "    if area > 0 and len(detections) > 0:\n",
    "        count += 1\n",
    "\n",
    "        cv2.imwrite(f'data/User_{current_id}_{count}.jpg', \n",
    "                    frame[int(box[1]):int(box[3]), int(box[0]):int(box[2])])\n",
    "        \n",
    "        cv2.imshow(\"ROI\", frame[int(box[1]):int(box[3]), int(box[0]):int(box[2])])\n",
    "\n",
    "        cv2.rectangle(frame, \n",
    "                      (int(box[0]), int(box[1])), \n",
    "                      (int(box[2]), int(box[3])), \n",
    "                      (255,0,0), 2)\n",
    "\n",
    "    \n",
    "    k = cv2.waitKey(10)\n",
    "\n",
    "    if k == ord('q') or count >= limit:\n",
    "        break\n",
    "\n",
    "    cv2.imshow(\"Frame\", frame)\n",
    "\n",
    "cap.release()\n",
    "cv2.destroyAllWindows()"
   ]
  }
 ],
 "metadata": {
  "kernelspec": {
   "display_name": "quick-venv",
   "language": "python",
   "name": "python3"
  },
  "language_info": {
   "codemirror_mode": {
    "name": "ipython",
    "version": 3
   },
   "file_extension": ".py",
   "mimetype": "text/x-python",
   "name": "python",
   "nbconvert_exporter": "python",
   "pygments_lexer": "ipython3",
   "version": "3.12.0"
  }
 },
 "nbformat": 4,
 "nbformat_minor": 2
}
