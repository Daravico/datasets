{
 "cells": [
  {
   "cell_type": "code",
   "execution_count": 1,
   "metadata": {},
   "outputs": [],
   "source": [
    "import cv2\n",
    "import numpy as np\n",
    "import os\n",
    "from typing import List, Tuple\n",
    "\n",
    "path = 'data'\n",
    "\n",
    "def images_loader(path:str) ->Tuple[List[int], List[np.array]]:\n",
    "    \n",
    "    hog = cv2.HOGDescriptor()\n",
    "\n",
    "    image_paths = [os.path.join(path, f) for f in os.listdir(path)]\n",
    "\n",
    "    features = []\n",
    "    ids = []\n",
    "\n",
    "    for path_file in image_paths:\n",
    "        face_img = cv2.imread(path_file, cv2.IMREAD_GRAYSCALE)\n",
    "        face_img = cv2.resize(face_img, (64, 128))\n",
    "\n",
    "        hog_features = hog.compute(face_img)\n",
    "\n",
    "        # print(path_file)\n",
    "        # print(path_file.split(\"\\\\\")[-1].split(\".\")[0].split(\"_\")[1])\n",
    "        \n",
    "        id_file = (os.path.split(path_file)[-1].split(\".\")[0].split(\"_\")[1])\n",
    "\n",
    "        features.append(hog_features.flatten())\n",
    "        ids.append(int(id_file))\n",
    "\n",
    "        # cv2.imshow(\"Training\", face_img)\n",
    "        # cv2.waitKey(1)\n",
    "\n",
    "    cv2.destroyAllWindows()\n",
    "    return ids, features\n",
    "\n",
    "ids, features = images_loader(path)"
   ]
  },
  {
   "cell_type": "code",
   "execution_count": 2,
   "metadata": {},
   "outputs": [],
   "source": [
    "from sklearn import svm\n",
    "import pickle\n",
    "import numpy as np\n",
    "\n",
    "path = 'data'\n",
    "\n",
    "ids, features = images_loader(path)\n",
    "\n",
    "X_train = np.array(features)\n",
    "y_train = np.array(ids)\n",
    "\n",
    "clf = svm.SVC(kernel='linear', probability=True)\n",
    "clf.fit(X_train, y_train)\n",
    "\n",
    "with open('FaceModel.pkl', 'wb') as model_file:\n",
    "    pickle.dump(clf, model_file)"
   ]
  }
 ],
 "metadata": {
  "kernelspec": {
   "display_name": "quick-venv",
   "language": "python",
   "name": "python3"
  },
  "language_info": {
   "codemirror_mode": {
    "name": "ipython",
    "version": 3
   },
   "file_extension": ".py",
   "mimetype": "text/x-python",
   "name": "python",
   "nbconvert_exporter": "python",
   "pygments_lexer": "ipython3",
   "version": "3.12.0"
  }
 },
 "nbformat": 4,
 "nbformat_minor": 2
}
