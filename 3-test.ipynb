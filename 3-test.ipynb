{
 "cells": [
  {
   "cell_type": "code",
   "execution_count": null,
   "metadata": {},
   "outputs": [],
   "source": [
    "import cv2\n",
    "import pickle\n",
    "\n",
    "cap = cv2.VideoCapture(0)\n",
    "\n",
    "gestures = ('empty', 'one', 'two', 'palm')\n",
    "\n",
    "# ROI:\n",
    "x = 20 \n",
    "y = int(cap.get(cv2.CAP_PROP_FRAME_HEIGHT) // 4)\n",
    "\n",
    "w = int(cap.get(cv2.CAP_PROP_FRAME_WIDTH) // 4)\n",
    "h = int(cap.get(cv2.CAP_PROP_FRAME_HEIGHT) // 2)\n",
    "\n",
    "\n",
    "with open('GestureModel.pkl', 'rb') as model_file:\n",
    "    clf = pickle.load(model_file)\n",
    "\n",
    "hog = cv2.HOGDescriptor()\n",
    "\n",
    "while True:\n",
    "\n",
    "    ret, frame = cap.read()\n",
    "    frame = cv2.flip(frame, 1)\n",
    "    gray = cv2.cvtColor(frame, cv2.COLOR_BGR2GRAY)\n",
    "\n",
    "    # ROI:\n",
    "    cv2.rectangle(frame, (x,y), (x+w,y+h), (0,255,0),2)\n",
    "    roi = gray[y:y+h, x:x+w]\n",
    "    roi = cv2.resize(roi, (64,128))\n",
    "\n",
    "    hog_features = hog.compute(roi).flatten().reshape(1,-1)\n",
    "\n",
    "    prediction = clf.predict(hog_features)\n",
    "    \n",
    "    cv2.putText(frame, f'Gesture: {gestures[prediction[0]]}', (10,30), \n",
    "                cv2.FONT_HERSHEY_COMPLEX, 1, (255,0,0), 2)\n",
    "\n",
    "    cv2.imshow(\"Frame\", frame)\n",
    "\n",
    "    k = cv2.waitKey(1)\n",
    "\n",
    "    if k == ord('q'):\n",
    "        break\n",
    "\n",
    "cap.release()\n",
    "cv2.destroyAllWindows()"
   ]
  }
 ],
 "metadata": {
  "language_info": {
   "name": "python"
  }
 },
 "nbformat": 4,
 "nbformat_minor": 2
}
