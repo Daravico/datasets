{
 "cells": [
  {
   "cell_type": "code",
   "execution_count": null,
   "metadata": {},
   "outputs": [],
   "source": [
    "from dash import Dash, dcc, html, Output, Input, State\n",
    "import cv2\n",
    "import base64\n",
    "import dash_bootstrap_components as dbc\n",
    "\n",
    "app = Dash(__name__, external_stylesheets=[dbc.themes.BOOTSTRAP])\n",
    "\n",
    "app.layout = html.Div([\n",
    "    html.H1(\"Video Stream with OpenCV and Dash\"),\n",
    "    dbc.Button(\"Start Stream\"),\n",
    "    html.Img(id=\"video-stream\", style={\"width\": \"60%\", \"height\": \"auto\"}),\n",
    "    dcc.Interval(id=\"interval-comp\", interval=100, n_intervals=0),\n",
    "])\n",
    "\n",
    "cap = cv2.VideoCapture(0)\n",
    "\n",
    "def serve_video_frame():\n",
    "    if cap is None:\n",
    "        return None\n",
    "    \n",
    "    ret, frame = cap.read()\n",
    "\n",
    "    if not ret:\n",
    "        return None\n",
    "    \n",
    "    _, buffer = cv2.imencode('.jpg', frame)\n",
    "    frame_base64 = base64.b64encode(buffer).decode(\"utf-8\")\n",
    "    return f\"data:image/jpeg;base64,{frame_base64}\"\n",
    "\n",
    "@app.callback(\n",
    "        Output('video-stream', 'src'),\n",
    "        Input('interval-comp', 'n_intervals'),\n",
    "        State)\n",
    "def update_video_stream(n):\n",
    "    return serve_video_frame()\n",
    "\n",
    "app.run_server(debug = True)\n"
   ]
  }
 ],
 "metadata": {
  "language_info": {
   "name": "python"
  }
 },
 "nbformat": 4,
 "nbformat_minor": 2
}
