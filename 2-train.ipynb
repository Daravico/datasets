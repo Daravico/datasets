{
 "cells": [
  {
   "cell_type": "code",
   "execution_count": null,
   "metadata": {},
   "outputs": [],
   "source": [
    "import cv2\n",
    "import numpy as np\n",
    "import os\n",
    "\n",
    "path = 'data'\n",
    "\n",
    "\n",
    "def images_loader(path):\n",
    "\n",
    "    hog = cv2.HOGDescriptor()\n",
    "\n",
    "    image_paths = [os.path.join(path, f) for f in os.listdir(path)]\n",
    "\n",
    "    features = []\n",
    "    ids = []\n",
    "    \n",
    "    for path_file in image_paths:\n",
    "        \n",
    "        face_img = cv2.imread(path_file, cv2.IMREAD_GRAYSCALE)\n",
    "        face_img = cv2.resize(face_img, (64, 128))\n",
    "\n",
    "\n",
    "        # face_array = np.array(face_img)\n",
    "\n",
    "\n",
    "        hog_features = hog.compute(face_img)\n",
    "\n",
    "        id_file = (os.path.split(path_file)[-1].split(\".\")[0].split(\"_\")[1])\n",
    "\n",
    "\n",
    "\n",
    "\n",
    "        features.append(hog_features.flatten())\n",
    "        ids.append(int(id_file))\n",
    "\n",
    "        cv2.imshow(\"Training\", face_img)\n",
    "        cv2.waitKey(1)\n",
    "\n",
    "    cv2.destroyAllWindows()\n",
    "    return ids, features\n",
    "\n",
    "\n"
   ]
  },
  {
   "cell_type": "code",
   "execution_count": null,
   "metadata": {},
   "outputs": [],
   "source": [
    "import cv2\n",
    "from sklearn import svm\n",
    "\n",
    "path = 'data'\n",
    "\n",
    "ids, features = images_loader(path)\n",
    "\n",
    "X_train = np.array(features)\n",
    "y_train = np.array(ids)\n",
    "\n",
    "clf = svm.SVC(kernel='linear', probability=True)\n",
    "clf.fit(X_train, y_train)\n",
    "\n",
    "import pickle\n",
    "with open(\"GestureModel.pkl\", 'wb') as model_file:\n",
    "    pickle.dump(clf, model_file)\n"
   ]
  }
 ],
 "metadata": {
  "language_info": {
   "name": "python"
  }
 },
 "nbformat": 4,
 "nbformat_minor": 2
}
